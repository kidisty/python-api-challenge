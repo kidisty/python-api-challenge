{
 "cells": [
  {
   "cell_type": "markdown",
   "metadata": {},
   "source": [
    "# WeatherPy\n",
    "----\n",
    "\n",
    "#### Note\n",
    "* Instructions have been included for each segment. You do not have to follow them exactly, but they are included to help you think through the steps."
   ]
  },
  {
   "cell_type": "code",
   "execution_count": 4,
   "metadata": {
    "scrolled": true
   },
   "outputs": [],
   "source": [
    "# Dependencies and Setup\n",
    "import matplotlib.pyplot as plt\n",
    "import pandas as pd\n",
    "import numpy as np\n",
    "import requests\n",
    "import time\n",
    "from scipy.stats import linregress\n",
    "import os\n",
    "\n",
    "# Import API key\n",
    "from api_keys import weather_api_key\n",
    "\n",
    "# Incorporated citipy to determine city based on latitude and longitude\n",
    "from citipy import citipy\n",
    "temp_units = \"imperial\"\n",
    "# Output File (CSV)\n",
    "output_data_file = \"output_data/cities.csv\"\n",
    "\n",
    "# Range of latitudes and longitudes\n",
    "lat_range = (-90, 90)\n",
    "lng_range = (-180, 180)"
   ]
  },
  {
   "cell_type": "markdown",
   "metadata": {},
   "source": [
    "## Generate Cities List"
   ]
  },
  {
   "cell_type": "code",
   "execution_count": 5,
   "metadata": {},
   "outputs": [
    {
     "data": {
      "text/plain": [
       "592"
      ]
     },
     "execution_count": 5,
     "metadata": {},
     "output_type": "execute_result"
    }
   ],
   "source": [
    "# List for holding lat_lngs and cities\n",
    "lat_lngs = []\n",
    "cities = []\n",
    "\n",
    "# Create a set of random lat and lng combinations\n",
    "lats = np.random.uniform(low=-90.000, high=90.000, size=1500)\n",
    "lngs = np.random.uniform(low=-180.000, high=180.000, size=1500)\n",
    "lat_lngs = zip(lats, lngs)\n",
    "\n",
    "# Identify nearest city for each lat, lng combination\n",
    "for lat_lng in lat_lngs:\n",
    "    city = citipy.nearest_city(lat_lng[0], lat_lng[1]).city_name\n",
    "    \n",
    "    # If the city is unique, then add it to a our cities list\n",
    "    if city not in cities:\n",
    "        cities.append(city)\n",
    "\n",
    "# Print the city count to confirm sufficient count\n",
    "len(cities)"
   ]
  },
  {
   "cell_type": "markdown",
   "metadata": {},
   "source": [
    "### Perform API Calls\n",
    "* Perform a weather check on each city using a series of successive API calls.\n",
    "* Include a print log of each city as it'sbeing processed (with the city number and city name).\n"
   ]
  },
  {
   "cell_type": "code",
   "execution_count": 6,
   "metadata": {},
   "outputs": [
    {
     "name": "stdout",
     "output_type": "stream",
     "text": [
      "------------------------\n",
      "Beginning Data Retrieval\n",
      "------------------------\n",
      "Processing Record 1 of Set 1 | saskylakh\n",
      "Processing Record 2 of Set 1 | penzance\n",
      "Processing Record 3 of Set 1 | westport\n",
      "Processing Record 4 of Set 1 | belushya guba\n",
      "City not found. Skipping...\n",
      "Processing Record 5 of Set 1 | mataura\n",
      "Processing Record 6 of Set 1 | illoqqortoormiut\n",
      "City not found. Skipping...\n",
      "Processing Record 7 of Set 1 | taolanaro\n",
      "City not found. Skipping...\n",
      "Processing Record 8 of Set 1 | acarau\n",
      "City not found. Skipping...\n",
      "Processing Record 9 of Set 1 | bluff\n",
      "Processing Record 10 of Set 1 | codrington\n",
      "Processing Record 11 of Set 1 | butaritari\n",
      "Processing Record 12 of Set 1 | lebork\n",
      "Processing Record 13 of Set 1 | hobart\n",
      "Processing Record 14 of Set 1 | ust-karsk\n",
      "Processing Record 15 of Set 1 | lebu\n",
      "Processing Record 16 of Set 1 | punta arenas\n",
      "Processing Record 17 of Set 1 | fairbanks\n",
      "Processing Record 18 of Set 1 | salalah\n",
      "Processing Record 19 of Set 1 | kaitangata\n",
      "Processing Record 20 of Set 1 | kahului\n",
      "Processing Record 21 of Set 1 | ilulissat\n",
      "Processing Record 22 of Set 1 | mys shmidta\n",
      "Processing Record 23 of Set 1 | wilmington\n",
      "Processing Record 24 of Set 1 | busselton\n",
      "Processing Record 25 of Set 1 | auki\n",
      "Processing Record 26 of Set 1 | saint-georges\n",
      "Processing Record 27 of Set 1 | isla mujeres\n",
      "Processing Record 28 of Set 1 | ushuaia\n",
      "Processing Record 29 of Set 1 | port-gentil\n",
      "Processing Record 30 of Set 1 | erzin\n",
      "Processing Record 31 of Set 1 | quarai\n",
      "Processing Record 32 of Set 1 | vaini\n",
      "Processing Record 33 of Set 1 | kapaa\n",
      "Processing Record 34 of Set 1 | east london\n",
      "Processing Record 35 of Set 1 | qaanaaq\n",
      "Processing Record 36 of Set 1 | rikitea\n",
      "Processing Record 37 of Set 1 | tenenkou\n",
      "Processing Record 38 of Set 1 | cabo san lucas\n",
      "Processing Record 39 of Set 1 | atuona\n",
      "Processing Record 40 of Set 1 | berdigestyakh\n",
      "Processing Record 41 of Set 1 | barentsburg\n",
      "City not found. Skipping...\n",
      "Processing Record 42 of Set 1 | tuatapere\n",
      "Processing Record 43 of Set 1 | upernavik\n",
      "Processing Record 44 of Set 1 | belaya gora\n",
      "Processing Record 45 of Set 1 | bethel\n",
      "Processing Record 46 of Set 1 | chicama\n",
      "Processing Record 47 of Set 1 | port elizabeth\n",
      "Processing Record 48 of Set 1 | hermanus\n",
      "Processing Record 49 of Set 1 | bengkulu\n",
      "City not found. Skipping...\n",
      "Processing Record 50 of Set 1 | kerzhenets\n",
      "City not found. Skipping...\n",
      "Processing Record 1 of Set 2 | ca mau\n",
      "City not found. Skipping...\n",
      "Processing Record 2 of Set 2 | olinda\n",
      "Processing Record 3 of Set 2 | barrow\n",
      "Processing Record 4 of Set 2 | mahajanga\n",
      "Processing Record 5 of Set 2 | rocha\n",
      "Processing Record 6 of Set 2 | drawsko pomorskie\n",
      "Processing Record 7 of Set 2 | virginia beach\n",
      "Processing Record 8 of Set 2 | albany\n",
      "Processing Record 9 of Set 2 | longyearbyen\n",
      "Processing Record 10 of Set 2 | christchurch\n",
      "Processing Record 11 of Set 2 | sinnamary\n",
      "Processing Record 12 of Set 2 | antalaha\n",
      "Processing Record 13 of Set 2 | tumannyy\n",
      "City not found. Skipping...\n",
      "Processing Record 14 of Set 2 | nizhniy tsasuchey\n",
      "Processing Record 15 of Set 2 | dongsheng\n",
      "Processing Record 16 of Set 2 | puerto ayora\n",
      "Processing Record 17 of Set 2 | tura\n",
      "Processing Record 18 of Set 2 | vardo\n",
      "Processing Record 19 of Set 2 | belmonte\n",
      "Processing Record 20 of Set 2 | ancud\n",
      "Processing Record 21 of Set 2 | imbituba\n",
      "Processing Record 22 of Set 2 | pevek\n",
      "Processing Record 23 of Set 2 | lesozavodsk\n",
      "Processing Record 24 of Set 2 | thompson\n",
      "Processing Record 25 of Set 2 | tahoua\n",
      "Processing Record 26 of Set 2 | grand river south east\n",
      "Processing Record 27 of Set 2 | strezhevoy\n",
      "Processing Record 28 of Set 2 | avigliano\n",
      "Processing Record 29 of Set 2 | mar del plata\n",
      "Processing Record 30 of Set 2 | vaitupu\n",
      "City not found. Skipping...\n",
      "Processing Record 31 of Set 2 | cayenne\n",
      "Processing Record 32 of Set 2 | iqaluit\n",
      "Processing Record 33 of Set 2 | rio branco\n",
      "Processing Record 34 of Set 2 | cidreira\n",
      "Processing Record 35 of Set 2 | narsaq\n",
      "Processing Record 36 of Set 2 | marienburg\n",
      "Processing Record 37 of Set 2 | nikolskoye\n",
      "Processing Record 38 of Set 2 | kargasok\n",
      "Processing Record 39 of Set 2 | shingu\n",
      "Processing Record 40 of Set 2 | gizo\n",
      "Processing Record 41 of Set 2 | khatanga\n",
      "Processing Record 42 of Set 2 | marfino\n",
      "Processing Record 43 of Set 2 | sao joao de pirabas\n",
      "Processing Record 44 of Set 2 | atbasar\n",
      "Processing Record 45 of Set 2 | puerto penasco\n",
      "Processing Record 46 of Set 2 | port alfred\n",
      "Processing Record 47 of Set 2 | lorengau\n",
      "Processing Record 48 of Set 2 | ambon\n",
      "Processing Record 49 of Set 2 | eyl\n",
      "Processing Record 50 of Set 2 | jacareacanga\n",
      "Processing Record 1 of Set 3 | kodiak\n",
      "Processing Record 2 of Set 3 | ponta do sol\n",
      "Processing Record 3 of Set 3 | yellowknife\n",
      "Processing Record 4 of Set 3 | hilton head island\n",
      "Processing Record 5 of Set 3 | lasa\n",
      "Processing Record 6 of Set 3 | kedrovyy\n",
      "Processing Record 7 of Set 3 | banda aceh\n",
      "Processing Record 8 of Set 3 | trinidad\n",
      "Processing Record 9 of Set 3 | asfi\n",
      "City not found. Skipping...\n",
      "Processing Record 10 of Set 3 | berlevag\n",
      "Processing Record 11 of Set 3 | idrinskoye\n",
      "Processing Record 12 of Set 3 | new norfolk\n",
      "Processing Record 13 of Set 3 | bethanien\n",
      "Processing Record 14 of Set 3 | castro\n",
      "Processing Record 15 of Set 3 | kunming\n",
      "Processing Record 16 of Set 3 | malangwa\n",
      "Processing Record 17 of Set 3 | tungor\n",
      "Processing Record 18 of Set 3 | sao filipe\n",
      "Processing Record 19 of Set 3 | puerto escondido\n",
      "Processing Record 20 of Set 3 | bilma\n",
      "Processing Record 21 of Set 3 | phan rang\n",
      "Processing Record 22 of Set 3 | santa vitoria do palmar\n",
      "Processing Record 23 of Set 3 | dikson\n",
      "Processing Record 24 of Set 3 | beyneu\n",
      "Processing Record 25 of Set 3 | sharan\n",
      "Processing Record 26 of Set 3 | edd\n",
      "Processing Record 27 of Set 3 | samalaeulu\n",
      "City not found. Skipping...\n",
      "Processing Record 28 of Set 3 | lagos\n",
      "Processing Record 29 of Set 3 | vasilyevskiy mokh\n",
      "Processing Record 30 of Set 3 | papara\n",
      "Processing Record 31 of Set 3 | hithadhoo\n",
      "Processing Record 32 of Set 3 | olafsvik\n",
      "City not found. Skipping...\n",
      "Processing Record 33 of Set 3 | amderma\n",
      "City not found. Skipping...\n",
      "Processing Record 34 of Set 3 | guajara\n",
      "Processing Record 35 of Set 3 | jamestown\n",
      "Processing Record 36 of Set 3 | turukhansk\n",
      "Processing Record 37 of Set 3 | lavrentiya\n",
      "Processing Record 38 of Set 3 | gaoual\n",
      "Processing Record 39 of Set 3 | phalaborwa\n",
      "Processing Record 40 of Set 3 | saint-philippe\n",
      "Processing Record 41 of Set 3 | barranca\n",
      "Processing Record 42 of Set 3 | jaciara\n",
      "Processing Record 43 of Set 3 | bilibino\n",
      "Processing Record 44 of Set 3 | luderitz\n",
      "Processing Record 45 of Set 3 | el alto\n",
      "City not found. Skipping...\n",
      "Processing Record 46 of Set 3 | victoria\n",
      "Processing Record 47 of Set 3 | baft\n",
      "Processing Record 48 of Set 3 | santa fe\n",
      "Processing Record 49 of Set 3 | bambous virieux\n",
      "Processing Record 50 of Set 3 | paita\n",
      "Processing Record 1 of Set 4 | kysyl-syr\n",
      "Processing Record 2 of Set 4 | taoudenni\n",
      "Processing Record 3 of Set 4 | gboko\n",
      "Processing Record 4 of Set 4 | harper\n",
      "Processing Record 5 of Set 4 | avarua\n",
      "Processing Record 6 of Set 4 | chuy\n",
      "Processing Record 7 of Set 4 | pineville\n",
      "Processing Record 8 of Set 4 | laguna\n",
      "Processing Record 9 of Set 4 | falealupo\n",
      "City not found. Skipping...\n",
      "Processing Record 10 of Set 4 | mujiayingzi\n",
      "Processing Record 11 of Set 4 | tarudant\n",
      "City not found. Skipping...\n",
      "Processing Record 12 of Set 4 | hirara\n",
      "Processing Record 13 of Set 4 | bandar-e lengeh\n",
      "City not found. Skipping...\n",
      "Processing Record 14 of Set 4 | wanning\n",
      "Processing Record 15 of Set 4 | adilabad\n",
      "Processing Record 16 of Set 4 | dzhebariki-khaya\n",
      "Processing Record 17 of Set 4 | tigil\n",
      "Processing Record 18 of Set 4 | hervey bay\n",
      "Processing Record 19 of Set 4 | tindwari\n",
      "Processing Record 20 of Set 4 | sattahip\n",
      "Processing Record 21 of Set 4 | saint george\n",
      "City not found. Skipping...\n",
      "Processing Record 22 of Set 4 | siocon\n",
      "Processing Record 23 of Set 4 | guerrero negro\n",
      "Processing Record 24 of Set 4 | viedma\n",
      "Processing Record 25 of Set 4 | torbay\n",
      "Processing Record 26 of Set 4 | alice springs\n",
      "Processing Record 27 of Set 4 | bartica\n",
      "Processing Record 28 of Set 4 | santa marta\n",
      "Processing Record 29 of Set 4 | sitka\n",
      "Processing Record 30 of Set 4 | talnakh\n",
      "Processing Record 31 of Set 4 | verkhnevilyuysk\n",
      "Processing Record 32 of Set 4 | chicaman\n",
      "Processing Record 33 of Set 4 | provideniya\n"
     ]
    },
    {
     "name": "stdout",
     "output_type": "stream",
     "text": [
      "Processing Record 34 of Set 4 | shenxian\n",
      "Processing Record 35 of Set 4 | kutum\n",
      "Processing Record 36 of Set 4 | clyde river\n",
      "Processing Record 37 of Set 4 | nizhneyansk\n",
      "City not found. Skipping...\n",
      "Processing Record 38 of Set 4 | hilo\n",
      "Processing Record 39 of Set 4 | gweta\n",
      "Processing Record 40 of Set 4 | mahebourg\n",
      "Processing Record 41 of Set 4 | karakulino\n",
      "Processing Record 42 of Set 4 | portland\n",
      "Processing Record 43 of Set 4 | burica\n",
      "City not found. Skipping...\n",
      "Processing Record 44 of Set 4 | naze\n",
      "Processing Record 45 of Set 4 | cape town\n",
      "Processing Record 46 of Set 4 | marshall\n",
      "Processing Record 47 of Set 4 | chanute\n",
      "Processing Record 48 of Set 4 | port keats\n",
      "Processing Record 49 of Set 4 | port hardy\n",
      "Processing Record 50 of Set 4 | bathsheba\n",
      "Processing Record 1 of Set 5 | nome\n",
      "Processing Record 2 of Set 5 | oranjemund\n",
      "Processing Record 3 of Set 5 | mackay\n",
      "Processing Record 4 of Set 5 | lolua\n",
      "City not found. Skipping...\n",
      "Processing Record 5 of Set 5 | mpika\n",
      "Processing Record 6 of Set 5 | hay river\n",
      "Processing Record 7 of Set 5 | yerbogachen\n",
      "Processing Record 8 of Set 5 | ocampo\n",
      "Processing Record 9 of Set 5 | rawson\n",
      "Processing Record 10 of Set 5 | sentyabrskiy\n",
      "City not found. Skipping...\n",
      "Processing Record 11 of Set 5 | poum\n",
      "Processing Record 12 of Set 5 | qaqortoq\n",
      "Processing Record 13 of Set 5 | san quintin\n",
      "Processing Record 14 of Set 5 | carnarvon\n",
      "Processing Record 15 of Set 5 | voykove\n",
      "Processing Record 16 of Set 5 | san cristobal\n",
      "Processing Record 17 of Set 5 | los llanos de aridane\n",
      "City not found. Skipping...\n",
      "Processing Record 18 of Set 5 | nanortalik\n",
      "Processing Record 19 of Set 5 | mhlambanyatsi\n",
      "Processing Record 20 of Set 5 | formoso do araguaia\n",
      "Processing Record 21 of Set 5 | alofi\n",
      "Processing Record 22 of Set 5 | milkovo\n",
      "Processing Record 23 of Set 5 | san andres\n",
      "Processing Record 24 of Set 5 | south sioux city\n",
      "Processing Record 25 of Set 5 | lagoa\n",
      "Processing Record 26 of Set 5 | korla\n",
      "City not found. Skipping...\n",
      "Processing Record 27 of Set 5 | mount gambier\n",
      "Processing Record 28 of Set 5 | touros\n",
      "Processing Record 29 of Set 5 | la ronge\n",
      "City not found. Skipping...\n",
      "Processing Record 30 of Set 5 | kota kinabalu\n",
      "Processing Record 31 of Set 5 | namibe\n",
      "Processing Record 32 of Set 5 | mango\n",
      "Processing Record 33 of Set 5 | alta floresta\n",
      "Processing Record 34 of Set 5 | barahona\n",
      "Processing Record 35 of Set 5 | mabaruma\n",
      "Processing Record 36 of Set 5 | innisfail\n",
      "Processing Record 37 of Set 5 | faanui\n",
      "Processing Record 38 of Set 5 | souillac\n",
      "Processing Record 39 of Set 5 | geraldton\n",
      "Processing Record 40 of Set 5 | fort nelson\n",
      "Processing Record 41 of Set 5 | kalat\n",
      "Processing Record 42 of Set 5 | vayalar\n",
      "Processing Record 43 of Set 5 | anadyr\n",
      "Processing Record 44 of Set 5 | tharad\n",
      "Processing Record 45 of Set 5 | port moresby\n",
      "Processing Record 46 of Set 5 | bredasdorp\n",
      "Processing Record 47 of Set 5 | saleaula\n",
      "City not found. Skipping...\n",
      "Processing Record 48 of Set 5 | ayan\n",
      "Processing Record 49 of Set 5 | nouakchott\n",
      "Processing Record 50 of Set 5 | tuktoyaktuk\n",
      "Processing Record 1 of Set 6 | georgetown\n",
      "Processing Record 2 of Set 6 | makakilo city\n",
      "Processing Record 3 of Set 6 | chokurdakh\n",
      "Processing Record 4 of Set 6 | srikakulam\n",
      "Processing Record 5 of Set 6 | tasiilaq\n",
      "Processing Record 6 of Set 6 | adwa\n",
      "Processing Record 7 of Set 6 | havoysund\n",
      "Processing Record 8 of Set 6 | barbar\n",
      "City not found. Skipping...\n",
      "Processing Record 9 of Set 6 | hunza\n",
      "City not found. Skipping...\n",
      "Processing Record 10 of Set 6 | port-de-paix\n",
      "City not found. Skipping...\n",
      "Processing Record 11 of Set 6 | kembe\n",
      "City not found. Skipping...\n",
      "Processing Record 12 of Set 6 | babati\n",
      "Processing Record 13 of Set 6 | college\n",
      "Processing Record 14 of Set 6 | kenora\n",
      "Processing Record 15 of Set 6 | vestmanna\n",
      "Processing Record 16 of Set 6 | ribeira grande\n",
      "Processing Record 17 of Set 6 | haverfordwest\n",
      "Processing Record 18 of Set 6 | torbat-e jam\n",
      "City not found. Skipping...\n",
      "Processing Record 19 of Set 6 | tecoanapa\n",
      "Processing Record 20 of Set 6 | kavieng\n",
      "Processing Record 21 of Set 6 | eenhana\n",
      "Processing Record 22 of Set 6 | hami\n",
      "Processing Record 23 of Set 6 | arraial do cabo\n",
      "Processing Record 24 of Set 6 | beringovskiy\n",
      "Processing Record 25 of Set 6 | tirumala\n",
      "Processing Record 26 of Set 6 | goderich\n",
      "Processing Record 27 of Set 6 | kaniama\n",
      "Processing Record 28 of Set 6 | chapais\n",
      "Processing Record 29 of Set 6 | taipu\n",
      "Processing Record 30 of Set 6 | assare\n",
      "Processing Record 31 of Set 6 | comodoro rivadavia\n",
      "Processing Record 32 of Set 6 | jalu\n",
      "Processing Record 33 of Set 6 | pangody\n",
      "Processing Record 34 of Set 6 | ust-nera\n",
      "Processing Record 35 of Set 6 | ginir\n",
      "Processing Record 36 of Set 6 | sidhi\n",
      "Processing Record 37 of Set 6 | kiruna\n",
      "Processing Record 38 of Set 6 | rodeo\n",
      "Processing Record 39 of Set 6 | sola\n",
      "Processing Record 40 of Set 6 | the valley\n",
      "City not found. Skipping...\n",
      "Processing Record 41 of Set 6 | bitung\n",
      "Processing Record 42 of Set 6 | davila\n",
      "Processing Record 43 of Set 6 | kayes\n",
      "Processing Record 44 of Set 6 | jalingo\n",
      "Processing Record 45 of Set 6 | rioja\n",
      "Processing Record 46 of Set 6 | barabinsk\n",
      "Processing Record 47 of Set 6 | amga\n",
      "Processing Record 48 of Set 6 | altay\n",
      "Processing Record 49 of Set 6 | malanje\n",
      "Processing Record 50 of Set 6 | panaba\n",
      "Processing Record 1 of Set 7 | krasnokamensk\n",
      "Processing Record 2 of Set 7 | maceio\n",
      "Processing Record 3 of Set 7 | cuamba\n",
      "Processing Record 4 of Set 7 | songjianghe\n",
      "Processing Record 5 of Set 7 | boyabat\n",
      "Processing Record 6 of Set 7 | bay roberts\n",
      "Processing Record 7 of Set 7 | itoman\n",
      "Processing Record 8 of Set 7 | tabory\n",
      "Processing Record 9 of Set 7 | kashan\n",
      "Processing Record 10 of Set 7 | bam\n",
      "Processing Record 11 of Set 7 | shetpe\n",
      "Processing Record 12 of Set 7 | elko\n",
      "Processing Record 13 of Set 7 | valdivia\n",
      "Processing Record 14 of Set 7 | iranshahr\n",
      "Processing Record 15 of Set 7 | severo-kurilsk\n",
      "Processing Record 16 of Set 7 | bamenda\n",
      "Processing Record 17 of Set 7 | ialibu\n",
      "Processing Record 18 of Set 7 | sorland\n",
      "Processing Record 19 of Set 7 | lata\n",
      "Processing Record 20 of Set 7 | duluth\n",
      "Processing Record 21 of Set 7 | springbok\n",
      "Processing Record 22 of Set 7 | namatanai\n",
      "Processing Record 23 of Set 7 | saldanha\n",
      "Processing Record 24 of Set 7 | debre zeyit\n",
      "City not found. Skipping...\n",
      "Processing Record 25 of Set 7 | abonnema\n",
      "Processing Record 26 of Set 7 | brae\n",
      "Processing Record 27 of Set 7 | mayo\n",
      "Processing Record 28 of Set 7 | vila velha\n",
      "Processing Record 29 of Set 7 | dzaoudzi\n",
      "Processing Record 30 of Set 7 | norman wells\n",
      "Processing Record 31 of Set 7 | shakawe\n",
      "Processing Record 32 of Set 7 | lefka\n",
      "Processing Record 33 of Set 7 | haines junction\n",
      "Processing Record 34 of Set 7 | qurayyat\n",
      "City not found. Skipping...\n",
      "Processing Record 35 of Set 7 | balykshi\n",
      "City not found. Skipping...\n",
      "Processing Record 36 of Set 7 | bosaso\n",
      "Processing Record 37 of Set 7 | svetlogorsk\n",
      "Processing Record 38 of Set 7 | paradwip\n",
      "City not found. Skipping...\n",
      "Processing Record 39 of Set 7 | point fortin\n",
      "Processing Record 40 of Set 7 | cap malheureux\n",
      "Processing Record 41 of Set 7 | matara\n",
      "Processing Record 42 of Set 7 | matay\n",
      "Processing Record 43 of Set 7 | aklavik\n",
      "Processing Record 44 of Set 7 | chambersburg\n",
      "Processing Record 45 of Set 7 | tautira\n",
      "Processing Record 46 of Set 7 | magan\n",
      "Processing Record 47 of Set 7 | comarapa\n",
      "Processing Record 48 of Set 7 | coxim\n",
      "Processing Record 49 of Set 7 | paracuru\n",
      "Processing Record 50 of Set 7 | quatre cocos\n",
      "City not found. Skipping...\n",
      "Processing Record 1 of Set 8 | zhuhai\n",
      "Processing Record 2 of Set 8 | nioki\n",
      "Processing Record 3 of Set 8 | almaznyy\n",
      "Processing Record 4 of Set 8 | samarai\n",
      "Processing Record 5 of Set 8 | saint-leu\n",
      "Processing Record 6 of Set 8 | tokur\n",
      "Processing Record 7 of Set 8 | marzuq\n",
      "Processing Record 8 of Set 8 | sur\n",
      "Processing Record 9 of Set 8 | gat\n",
      "Processing Record 10 of Set 8 | fort walton beach\n",
      "Processing Record 11 of Set 8 | cherskiy\n",
      "Processing Record 12 of Set 8 | taywarah\n",
      "Processing Record 13 of Set 8 | cockburn harbour\n",
      "Processing Record 14 of Set 8 | broken hill\n",
      "City not found. Skipping...\n",
      "Processing Record 15 of Set 8 | beregovoy\n",
      "Processing Record 16 of Set 8 | kuryk\n",
      "Processing Record 17 of Set 8 | jauharabad\n",
      "Processing Record 18 of Set 8 | puerto berrio\n",
      "Processing Record 19 of Set 8 | nelson bay\n",
      "Processing Record 20 of Set 8 | kampot\n"
     ]
    },
    {
     "name": "stdout",
     "output_type": "stream",
     "text": [
      "Processing Record 21 of Set 8 | bargal\n",
      "City not found. Skipping...\n",
      "Processing Record 22 of Set 8 | reynoldsburg\n",
      "Processing Record 23 of Set 8 | kargil\n",
      "Processing Record 24 of Set 8 | huitziltepec\n",
      "Processing Record 25 of Set 8 | gisborne\n",
      "Processing Record 26 of Set 8 | saint anthony\n",
      "City not found. Skipping...\n",
      "Processing Record 27 of Set 8 | alcacer do sal\n",
      "City not found. Skipping...\n",
      "Processing Record 28 of Set 8 | pisco\n",
      "Processing Record 29 of Set 8 | galle\n",
      "Processing Record 30 of Set 8 | barra de sao francisco\n",
      "Processing Record 31 of Set 8 | weener\n",
      "Processing Record 32 of Set 8 | baruun-urt\n",
      "Processing Record 33 of Set 8 | macaboboni\n",
      "City not found. Skipping...\n",
      "Processing Record 34 of Set 8 | nioro\n",
      "Processing Record 35 of Set 8 | ewa beach\n",
      "Processing Record 36 of Set 8 | vila franca do campo\n",
      "Processing Record 37 of Set 8 | kruisfontein\n",
      "Processing Record 38 of Set 8 | srednekolymsk\n",
      "Processing Record 39 of Set 8 | neiafu\n",
      "Processing Record 40 of Set 8 | avera\n",
      "Processing Record 41 of Set 8 | isangel\n",
      "Processing Record 42 of Set 8 | bubaque\n",
      "Processing Record 43 of Set 8 | umzimvubu\n",
      "City not found. Skipping...\n",
      "Processing Record 44 of Set 8 | pacific grove\n",
      "Processing Record 45 of Set 8 | elat\n",
      "Processing Record 46 of Set 8 | caravelas\n",
      "Processing Record 47 of Set 8 | angoram\n",
      "Processing Record 48 of Set 8 | rosehearty\n",
      "Processing Record 49 of Set 8 | aden\n",
      "Processing Record 50 of Set 8 | mayumba\n",
      "Processing Record 1 of Set 9 | canar\n",
      "Processing Record 2 of Set 9 | ardakan\n",
      "Processing Record 3 of Set 9 | suntar\n",
      "Processing Record 4 of Set 9 | esperance\n",
      "Processing Record 5 of Set 9 | puerto carreno\n",
      "Processing Record 6 of Set 9 | belmopan\n",
      "Processing Record 7 of Set 9 | zhigalovo\n",
      "Processing Record 8 of Set 9 | mendi\n",
      "Processing Record 9 of Set 9 | lephepe\n",
      "City not found. Skipping...\n",
      "Processing Record 10 of Set 9 | nema\n",
      "Processing Record 11 of Set 9 | abnub\n",
      "Processing Record 12 of Set 9 | azimur\n",
      "City not found. Skipping...\n",
      "Processing Record 13 of Set 9 | svobodnyy\n",
      "Processing Record 14 of Set 9 | petropavlovka\n",
      "Processing Record 15 of Set 9 | bolbec\n",
      "Processing Record 16 of Set 9 | vao\n",
      "Processing Record 17 of Set 9 | puksoozero\n",
      "Processing Record 18 of Set 9 | voi\n",
      "Processing Record 19 of Set 9 | butembo\n",
      "Processing Record 20 of Set 9 | gweru\n",
      "Processing Record 21 of Set 9 | madison\n",
      "Processing Record 22 of Set 9 | coihaique\n",
      "Processing Record 23 of Set 9 | taozhuang\n",
      "Processing Record 24 of Set 9 | tilichiki\n",
      "Processing Record 25 of Set 9 | flinders\n",
      "Processing Record 26 of Set 9 | merrill\n",
      "Processing Record 27 of Set 9 | samusu\n",
      "City not found. Skipping...\n",
      "Processing Record 28 of Set 9 | gorontalo\n",
      "Processing Record 29 of Set 9 | viligili\n",
      "City not found. Skipping...\n",
      "Processing Record 30 of Set 9 | edgewater\n",
      "Processing Record 31 of Set 9 | toftir\n",
      "City not found. Skipping...\n",
      "Processing Record 32 of Set 9 | porto novo\n",
      "Processing Record 33 of Set 9 | trelew\n",
      "Processing Record 34 of Set 9 | worthington\n",
      "Processing Record 35 of Set 9 | aleksandriyskaya\n",
      "Processing Record 36 of Set 9 | miri\n",
      "Processing Record 37 of Set 9 | balakhta\n",
      "Processing Record 38 of Set 9 | bolungarvik\n",
      "City not found. Skipping...\n",
      "Processing Record 39 of Set 9 | erenhot\n",
      "Processing Record 40 of Set 9 | seoul\n",
      "Processing Record 41 of Set 9 | henties bay\n",
      "City not found. Skipping...\n",
      "Processing Record 42 of Set 9 | igarape-acu\n",
      "City not found. Skipping...\n",
      "Processing Record 43 of Set 9 | osmena\n",
      "Processing Record 44 of Set 9 | sohag\n",
      "Processing Record 45 of Set 9 | silver city\n",
      "Processing Record 46 of Set 9 | san carlos de bariloche\n",
      "Processing Record 47 of Set 9 | mangan\n",
      "Processing Record 48 of Set 9 | kawalu\n",
      "Processing Record 49 of Set 9 | nokaneng\n",
      "Processing Record 50 of Set 9 | windhoek\n",
      "Processing Record 1 of Set 10 | chumikan\n",
      "Processing Record 2 of Set 10 | itarema\n",
      "Processing Record 3 of Set 10 | hambantota\n",
      "Processing Record 4 of Set 10 | matagami\n",
      "Processing Record 5 of Set 10 | port augusta\n",
      "Processing Record 6 of Set 10 | albanel\n",
      "Processing Record 7 of Set 10 | novobirilyussy\n",
      "Processing Record 8 of Set 10 | nuuk\n",
      "Processing Record 9 of Set 10 | pyay\n",
      "Processing Record 10 of Set 10 | takapau\n",
      "Processing Record 11 of Set 10 | hearst\n",
      "Processing Record 12 of Set 10 | naryan-mar\n",
      "Processing Record 13 of Set 10 | cockburn town\n",
      "Processing Record 14 of Set 10 | sioux lookout\n",
      "Processing Record 15 of Set 10 | bani\n",
      "Processing Record 16 of Set 10 | sao joao da barra\n",
      "Processing Record 17 of Set 10 | pochutla\n",
      "Processing Record 18 of Set 10 | ostrovnoy\n",
      "Processing Record 19 of Set 10 | morondava\n",
      "Processing Record 20 of Set 10 | dorado\n",
      "Processing Record 21 of Set 10 | necochea\n",
      "Processing Record 22 of Set 10 | buritis\n",
      "Processing Record 23 of Set 10 | zhuozhou\n",
      "City not found. Skipping...\n",
      "Processing Record 24 of Set 10 | cao bang\n",
      "Processing Record 25 of Set 10 | wattegama\n",
      "Processing Record 26 of Set 10 | padang\n",
      "Processing Record 27 of Set 10 | okha\n",
      "Processing Record 28 of Set 10 | felix perez cardozo\n",
      "Processing Record 29 of Set 10 | omagari\n",
      "Processing Record 30 of Set 10 | chiang rai\n",
      "City not found. Skipping...\n",
      "Processing Record 31 of Set 10 | jinka\n",
      "Processing Record 32 of Set 10 | bonavista\n",
      "Processing Record 33 of Set 10 | taltal\n",
      "Processing Record 34 of Set 10 | yarmouth\n",
      "Processing Record 35 of Set 10 | hanna\n",
      "Processing Record 36 of Set 10 | qandala\n",
      "Processing Record 37 of Set 10 | arlit\n",
      "Processing Record 38 of Set 10 | sam chuk\n",
      "Processing Record 39 of Set 10 | hasaki\n",
      "Processing Record 40 of Set 10 | dingle\n",
      "Processing Record 41 of Set 10 | mayahi\n",
      "Processing Record 42 of Set 10 | axim\n",
      "Processing Record 43 of Set 10 | lerwick\n",
      "Processing Record 44 of Set 10 | irece\n",
      "Processing Record 45 of Set 10 | monroe\n",
      "Processing Record 46 of Set 10 | diu\n",
      "Processing Record 47 of Set 10 | monrovia\n",
      "Processing Record 48 of Set 10 | gayeri\n",
      "Processing Record 49 of Set 10 | rio gallegos\n",
      "Processing Record 50 of Set 10 | sulangan\n",
      "Processing Record 1 of Set 11 | tiksi\n",
      "Processing Record 2 of Set 11 | grand gaube\n",
      "Processing Record 3 of Set 11 | podgornoye\n",
      "Processing Record 4 of Set 11 | saint-francois\n",
      "Processing Record 5 of Set 11 | ahipara\n",
      "Processing Record 6 of Set 11 | margate\n",
      "Processing Record 7 of Set 11 | amahai\n",
      "Processing Record 8 of Set 11 | suna\n",
      "Processing Record 9 of Set 11 | takoradi\n",
      "Processing Record 10 of Set 11 | valparaiso\n",
      "Processing Record 11 of Set 11 | rolla\n",
      "Processing Record 12 of Set 11 | kijang\n",
      "Processing Record 13 of Set 11 | puerto leguizamo\n",
      "Processing Record 14 of Set 11 | alekseyevka\n",
      "Processing Record 15 of Set 11 | iskateley\n",
      "Processing Record 16 of Set 11 | karratha\n",
      "Processing Record 17 of Set 11 | ikole\n",
      "City not found. Skipping...\n",
      "Processing Record 18 of Set 11 | ahuimanu\n",
      "Processing Record 19 of Set 11 | corbelia\n",
      "Processing Record 20 of Set 11 | fortuna\n",
      "Processing Record 21 of Set 11 | sapatgram\n",
      "Processing Record 22 of Set 11 | lamont\n",
      "Processing Record 23 of Set 11 | lake cowichan\n",
      "Processing Record 24 of Set 11 | santana\n",
      "Processing Record 25 of Set 11 | deputatskiy\n",
      "Processing Record 26 of Set 11 | karaul\n",
      "City not found. Skipping...\n",
      "Processing Record 27 of Set 11 | tulun\n",
      "Processing Record 28 of Set 11 | great yarmouth\n",
      "City not found. Skipping...\n",
      "Processing Record 29 of Set 11 | springdale\n",
      "Processing Record 30 of Set 11 | yumen\n",
      "Processing Record 31 of Set 11 | abha\n",
      "Processing Record 32 of Set 11 | wajima\n",
      "Processing Record 33 of Set 11 | ijaki\n",
      "City not found. Skipping...\n",
      "Processing Record 34 of Set 11 | shahr-e babak\n",
      "City not found. Skipping...\n",
      "Processing Record 35 of Set 11 | la asuncion\n",
      "City not found. Skipping...\n",
      "Processing Record 36 of Set 11 | griffith\n",
      "Processing Record 37 of Set 11 | myaundzha\n",
      "Processing Record 38 of Set 11 | myrtle beach\n",
      "Processing Record 39 of Set 11 | tonj\n",
      "City not found. Skipping...\n",
      "Processing Record 40 of Set 11 | douglas\n",
      "Processing Record 41 of Set 11 | semey\n",
      "Processing Record 42 of Set 11 | sandpoint\n",
      "Processing Record 43 of Set 11 | bangkalan\n",
      "Processing Record 44 of Set 11 | kipini\n",
      "Processing Record 45 of Set 11 | peniche\n",
      "Processing Record 46 of Set 11 | marsa matruh\n",
      "Processing Record 47 of Set 11 | hamilton\n",
      "Processing Record 48 of Set 11 | tabiauea\n",
      "City not found. Skipping...\n",
      "Processing Record 49 of Set 11 | borogontsy\n",
      "Processing Record 50 of Set 11 | hurghada\n",
      "City not found. Skipping...\n",
      "Processing Record 1 of Set 12 | rasshevatskaya\n"
     ]
    },
    {
     "name": "stdout",
     "output_type": "stream",
     "text": [
      "Processing Record 2 of Set 12 | houma\n",
      "Processing Record 3 of Set 12 | tagusao\n",
      "Processing Record 4 of Set 12 | derzhavinsk\n",
      "Processing Record 5 of Set 12 | mana\n",
      "Processing Record 6 of Set 12 | genhe\n",
      "Processing Record 7 of Set 12 | zhezkazgan\n",
      "Processing Record 8 of Set 12 | upata\n",
      "Processing Record 9 of Set 12 | shenjiamen\n",
      "Processing Record 10 of Set 12 | malinyi\n",
      "Processing Record 11 of Set 12 | sept-iles\n",
      "Processing Record 12 of Set 12 | trofors\n",
      "Processing Record 13 of Set 12 | mahon\n",
      "Processing Record 14 of Set 12 | lypova dolyna\n",
      "City not found. Skipping...\n",
      "Processing Record 15 of Set 12 | crab hill\n",
      "Processing Record 16 of Set 12 | salamiyah\n",
      "Processing Record 17 of Set 12 | smolenka\n",
      "Processing Record 18 of Set 12 | lugovskoy\n",
      "Processing Record 19 of Set 12 | susanville\n",
      "Processing Record 20 of Set 12 | labutta\n",
      "City not found. Skipping...\n",
      "Processing Record 21 of Set 12 | vestmannaeyjar\n",
      "Processing Record 22 of Set 12 | luganville\n",
      "Processing Record 23 of Set 12 | xiaoweizhai\n",
      "Processing Record 24 of Set 12 | ridgecrest\n",
      "Processing Record 25 of Set 12 | mangrol\n",
      "Processing Record 26 of Set 12 | nongan\n",
      "Processing Record 27 of Set 12 | taksimo\n",
      "Processing Record 28 of Set 12 | leningradskiy\n",
      "Processing Record 29 of Set 12 | san patricio\n",
      "Processing Record 30 of Set 12 | along\n",
      "Processing Record 31 of Set 12 | bow island\n",
      "Processing Record 32 of Set 12 | hella\n",
      "Processing Record 33 of Set 12 | grindavik\n",
      "Processing Record 34 of Set 12 | mala tokmachka\n",
      "Processing Record 35 of Set 12 | filipestii de targ\n",
      "City not found. Skipping...\n",
      "Processing Record 36 of Set 12 | kalevala\n",
      "Processing Record 37 of Set 12 | tiznit\n",
      "Processing Record 38 of Set 12 | baiquan\n",
      "Processing Record 39 of Set 12 | cumaribo\n",
      "City not found. Skipping...\n",
      "Processing Record 40 of Set 12 | doha\n",
      "Processing Record 41 of Set 12 | eureka\n",
      "Processing Record 42 of Set 12 | sakaiminato\n",
      "------------------------------\n",
      "Data Retrieval Complete\n",
      "------------------------------\n"
     ]
    }
   ],
   "source": [
    "# set lists for the dataframe\n",
    "City_new = []\n",
    "Cloudiness = []\n",
    "Country = []\n",
    "Date = []\n",
    "Humidity = []\n",
    "Lat = []\n",
    "Lng = []\n",
    "Max_Temp = []\n",
    "Wind_Speed = []\n",
    "\n",
    "# set initial count quantities for organization\n",
    "count_one = 0\n",
    "set_one = 1\n",
    "\n",
    "# loops for creating dataframe columns\n",
    "print('------------------------')\n",
    "print('Beginning Data Retrieval')\n",
    "print('------------------------')\n",
    "for city in cities:\n",
    "    query_url = f\"http://api.openweathermap.org/data/2.5/weather?appid={weather_api_key}&units={temp_units}&q=\"\n",
    "    # Get weather data\n",
    "    response = requests.get(query_url + city.replace(\" \",\"&\")).json()\n",
    "    if count_one > 49:\n",
    "            count_one = 1\n",
    "            set_one += 1\n",
    "    else:\n",
    "            count_one += 1\n",
    "    print(f\"Processing Record {count_one} of Set {set_one} | {city}\")\n",
    "    try:\n",
    "        Cloudiness.append(response['clouds']['all'])\n",
    "        Country.append(response['sys']['country'])\n",
    "        Date.append(response['dt'])\n",
    "        Humidity.append(response['main']['humidity'])\n",
    "        Lat.append(response['coord']['lat'])\n",
    "        Lng.append(response['coord']['lon'])\n",
    "        Max_Temp.append(response['main']['temp_max'])\n",
    "        Wind_Speed.append(response['wind']['speed'])\n",
    "        City_new.append(city)\n",
    "    except (KeyError, IndexError):\n",
    "        print(\"City not found. Skipping...\")\n",
    "print(\"------------------------------\")\n",
    "print(\"Data Retrieval Complete\")\n",
    "print(\"------------------------------\")\n",
    "    \n"
   ]
  },
  {
   "cell_type": "markdown",
   "metadata": {},
   "source": [
    "### Convert Raw Data to DataFrame\n",
    "* Export the city data into a .csv.\n",
    "* Display the DataFrame"
   ]
  },
  {
   "cell_type": "code",
   "execution_count": 7,
   "metadata": {},
   "outputs": [
    {
     "data": {
      "text/plain": [
       "City          525\n",
       "Cloudiness    525\n",
       "Country       525\n",
       "Date          525\n",
       "Humidity      525\n",
       "Lat           525\n",
       "Lng           525\n",
       "Max Temp      525\n",
       "Wind Speed    525\n",
       "dtype: int64"
      ]
     },
     "execution_count": 7,
     "metadata": {},
     "output_type": "execute_result"
    }
   ],
   "source": [
    "# create a data frame from cities, temp, humidity, cloudiness and wind speed\n",
    "weather_dict = {\"City\":City_new,\n",
    "                \"Cloudiness\":Cloudiness,\n",
    "                \"Country\":Country,\n",
    "                \"Date\":Date,\n",
    "                \"Humidity\":Humidity,\n",
    "                \"Lat\":Lat,\n",
    "                \"Lng\":Lng,\n",
    "                \"Max Temp\":Max_Temp,\n",
    "                \"Wind Speed\":Wind_Speed}\n",
    "weather_dataframe = pd.DataFrame(weather_dict)\n",
    "weather_dataframe.count()"
   ]
  },
  {
   "cell_type": "code",
   "execution_count": 8,
   "metadata": {},
   "outputs": [
    {
     "data": {
      "text/html": [
       "<div>\n",
       "<style scoped>\n",
       "    .dataframe tbody tr th:only-of-type {\n",
       "        vertical-align: middle;\n",
       "    }\n",
       "\n",
       "    .dataframe tbody tr th {\n",
       "        vertical-align: top;\n",
       "    }\n",
       "\n",
       "    .dataframe thead th {\n",
       "        text-align: right;\n",
       "    }\n",
       "</style>\n",
       "<table border=\"1\" class=\"dataframe\">\n",
       "  <thead>\n",
       "    <tr style=\"text-align: right;\">\n",
       "      <th></th>\n",
       "      <th>City</th>\n",
       "      <th>Cloudiness</th>\n",
       "      <th>Country</th>\n",
       "      <th>Date</th>\n",
       "      <th>Humidity</th>\n",
       "      <th>Lat</th>\n",
       "      <th>Lng</th>\n",
       "      <th>Max Temp</th>\n",
       "      <th>Wind Speed</th>\n",
       "    </tr>\n",
       "  </thead>\n",
       "  <tbody>\n",
       "    <tr>\n",
       "      <td>0</td>\n",
       "      <td>saskylakh</td>\n",
       "      <td>90</td>\n",
       "      <td>RU</td>\n",
       "      <td>1569885654</td>\n",
       "      <td>94</td>\n",
       "      <td>71.97</td>\n",
       "      <td>114.09</td>\n",
       "      <td>23.37</td>\n",
       "      <td>7.20</td>\n",
       "    </tr>\n",
       "    <tr>\n",
       "      <td>1</td>\n",
       "      <td>penzance</td>\n",
       "      <td>83</td>\n",
       "      <td>GB</td>\n",
       "      <td>1569885654</td>\n",
       "      <td>100</td>\n",
       "      <td>50.12</td>\n",
       "      <td>-5.53</td>\n",
       "      <td>62.01</td>\n",
       "      <td>20.80</td>\n",
       "    </tr>\n",
       "    <tr>\n",
       "      <td>2</td>\n",
       "      <td>westport</td>\n",
       "      <td>90</td>\n",
       "      <td>US</td>\n",
       "      <td>1569885437</td>\n",
       "      <td>63</td>\n",
       "      <td>41.14</td>\n",
       "      <td>-73.36</td>\n",
       "      <td>64.99</td>\n",
       "      <td>9.17</td>\n",
       "    </tr>\n",
       "    <tr>\n",
       "      <td>3</td>\n",
       "      <td>mataura</td>\n",
       "      <td>36</td>\n",
       "      <td>NZ</td>\n",
       "      <td>1569885655</td>\n",
       "      <td>69</td>\n",
       "      <td>-46.19</td>\n",
       "      <td>168.86</td>\n",
       "      <td>48.00</td>\n",
       "      <td>4.00</td>\n",
       "    </tr>\n",
       "    <tr>\n",
       "      <td>4</td>\n",
       "      <td>bluff</td>\n",
       "      <td>0</td>\n",
       "      <td>AU</td>\n",
       "      <td>1569885531</td>\n",
       "      <td>25</td>\n",
       "      <td>-23.58</td>\n",
       "      <td>149.07</td>\n",
       "      <td>81.34</td>\n",
       "      <td>13.69</td>\n",
       "    </tr>\n",
       "  </tbody>\n",
       "</table>\n",
       "</div>"
      ],
      "text/plain": [
       "        City  Cloudiness Country        Date  Humidity    Lat     Lng  \\\n",
       "0  saskylakh          90      RU  1569885654        94  71.97  114.09   \n",
       "1   penzance          83      GB  1569885654       100  50.12   -5.53   \n",
       "2   westport          90      US  1569885437        63  41.14  -73.36   \n",
       "3    mataura          36      NZ  1569885655        69 -46.19  168.86   \n",
       "4      bluff           0      AU  1569885531        25 -23.58  149.07   \n",
       "\n",
       "   Max Temp  Wind Speed  \n",
       "0     23.37        7.20  \n",
       "1     62.01       20.80  \n",
       "2     64.99        9.17  \n",
       "3     48.00        4.00  \n",
       "4     81.34       13.69  "
      ]
     },
     "execution_count": 8,
     "metadata": {},
     "output_type": "execute_result"
    }
   ],
   "source": [
    "weather_dataframe.head()"
   ]
  },
  {
   "cell_type": "code",
   "execution_count": 85,
   "metadata": {},
   "outputs": [],
   "source": [
    "#Export the city data into a csv.\n",
    "weather_dataframe.to_csv(r'New_cities.csv')"
   ]
  },
  {
   "cell_type": "markdown",
   "metadata": {},
   "source": [
    "### Plotting the Data\n",
    "* Use proper labeling of the plots using plot titles (including date of analysis) and axes labels.\n",
    "* Save the plotted figures as .pngs."
   ]
  },
  {
   "cell_type": "markdown",
   "metadata": {},
   "source": [
    "#### Latitude vs. Temperature Plot"
   ]
  },
  {
   "cell_type": "code",
   "execution_count": 9,
   "metadata": {},
   "outputs": [
    {
     "name": "stderr",
     "output_type": "stream",
     "text": [
      "/Users/kidistyohannes/anaconda3/envs/PythonData/lib/python3.6/site-packages/pandas/plotting/_matplotlib/core.py:969: MatplotlibDeprecationWarning: Support for uppercase single-letter colors is deprecated since Matplotlib 3.1 and will be removed in 3.3; please use lowercase instead.\n",
      "  **self.kwds\n"
     ]
    },
    {
     "data": {
      "image/png": "[encoded data removed]",
      "text/plain": [
       "<Figure size 432x288 with 1 Axes>"
      ]
     },
     "metadata": {
      "needs_background": "light"
     },
     "output_type": "display_data"
    }
   ],
   "source": [
    "weather_dataframe.plot(kind='scatter', x='Lat', y='Max Temp', c='B')\n",
    "plt.title('City Latitude Vs Max Temperature')\n",
    "plt.xlabel('Latitude')\n",
    "plt.ylabel('Max temperature (F)')\n",
    "plt.grid()\n",
    "plt.savefig(\"LatitudeVsTemperature.png\")\n",
    "#In this plot the latitude increases the temperature increases."
   ]
  },
  {
   "cell_type": "markdown",
   "metadata": {},
   "source": [
    "#### Latitude vs. Humidity Plot"
   ]
  },
  {
   "cell_type": "code",
   "execution_count": 86,
   "metadata": {},
   "outputs": [
    {
     "data": {
      "image/png": "[encoded data removed]",
      "text/plain": [
       "<Figure size 432x288 with 1 Axes>"
      ]
     },
     "metadata": {
      "needs_background": "light"
     },
     "output_type": "display_data"
    }
   ],
   "source": [
    "weather_dataframe.plot(kind='scatter',x='Lat',y='Humidity', c='B')\n",
    "plt.title('City Latitude Vs Max Humidity' )\n",
    "plt.xlabel('Latitude')\n",
    "plt.ylabel('Humidity (%)')\n",
    "plt.grid()\n",
    "plt.savefig(\"LatitudeVsHumidity.png\")\n",
    "#In this plot there is higher humidity for most cities. "
   ]
  },
  {
   "cell_type": "markdown",
   "metadata": {},
   "source": [
    "#### Latitude vs. Cloudiness Plot"
   ]
  },
  {
   "cell_type": "code",
   "execution_count": 87,
   "metadata": {},
   "outputs": [
    {
     "data": {
      "image/png": "[encoded data removed]",
      "text/plain": [
       "<Figure size 432x288 with 1 Axes>"
      ]
     },
     "metadata": {
      "needs_background": "light"
     },
     "output_type": "display_data"
    }
   ],
   "source": [
    "weather_dataframe.plot(kind='scatter',x='Lat',y='Cloudiness', c='B')\n",
    "plt.title('City Latitude Vs Cloudiness')\n",
    "plt.xlabel('Latitude')\n",
    "plt.ylabel('Cloudiness (%)')\n",
    "plt.grid()\n",
    "plt.savefig(\"LatitudeVsCloudiness.png\")\n",
    "#In this plot the cloudiness is average in all cities,latitude is not a strong predictor of cloudines"
   ]
  },
  {
   "cell_type": "markdown",
   "metadata": {},
   "source": [
    "#### Latitude vs. Wind Speed Plot"
   ]
  },
  {
   "cell_type": "code",
   "execution_count": 90,
   "metadata": {},
   "outputs": [
    {
     "data": {
      "image/png": "[encoded data removed]",
      "text/plain": [
       "<Figure size 432x288 with 1 Axes>"
      ]
     },
     "metadata": {
      "needs_background": "light"
     },
     "output_type": "display_data"
    }
   ],
   "source": [
    "weather_dataframe.plot(kind='scatter',x='Lat',y='Wind Speed', c='B')\n",
    "plt.title('City Latitude Vs Wind Speed')\n",
    "plt.xlabel('Latitude')\n",
    "plt.ylabel('Wind Speed (mph)')\n",
    "plt.grid()\n",
    "plt.savefig(\"LatitudeVsWindSpeed.png\")\n",
    "#In this plot the average wind speed for all cities is low."
   ]
  },
  {
   "cell_type": "markdown",
   "metadata": {},
   "source": [
    "## Linear Regression"
   ]
  },
  {
   "cell_type": "code",
   "execution_count": null,
   "metadata": {},
   "outputs": [],
   "source": [
    "# OPTIONAL: Create a function to create Linear Regression plots"
   ]
  },
  {
   "cell_type": "code",
   "execution_count": null,
   "metadata": {},
   "outputs": [],
   "source": [
    "# Create Northern and Southern Hemisphere DataFrames\n"
   ]
  },
  {
   "cell_type": "markdown",
   "metadata": {},
   "source": [
    "####  Northern Hemisphere - Max Temp vs. Latitude Linear Regression"
   ]
  },
  {
   "cell_type": "code",
   "execution_count": 91,
   "metadata": {},
   "outputs": [
    {
     "name": "stdout",
     "output_type": "stream",
     "text": [
      "The r-squared is: -0.4318603743163285\n"
     ]
    },
    {
     "data": {
      "image/png": "[encoded data removed]",
      "text/plain": [
       "<Figure size 432x288 with 1 Axes>"
      ]
     },
     "metadata": {
      "needs_background": "light"
     },
     "output_type": "display_data"
    },
    {
     "data": {
      "text/plain": [
       "<Figure size 432x288 with 0 Axes>"
      ]
     },
     "metadata": {},
     "output_type": "display_data"
    }
   ],
   "source": [
    "x_values = weather_dataframe['Lat']\n",
    "y_values = weather_dataframe['Max Temp']\n",
    "(slope, intercept, rvalue, pvalue, stderr) = linregress(x_values, y_values)\n",
    "regress_values = x_values * slope + intercept\n",
    "line_eq = \"y = \" + str(round(slope,2)) + \"x + \" + str(round(intercept,2))\n",
    "plt.scatter(x_values,y_values)\n",
    "plt.plot(x_values,regress_values,\"r-\")\n",
    "plt.annotate(line_eq,(45,80),fontsize=15,color=\"red\")\n",
    "plt.title('Northern Hemisphere - Max Temp vs. Latitude')\n",
    "plt.xlabel('Latitude')\n",
    "plt.ylabel('Max Temp')\n",
    "print(f\"The r-squared is: {rvalue}\")\n",
    "plt.xlim(0,80)\n",
    "plt.show()\n",
    "plt.savefig(\"NorthernHemisphere-MaxTempvs.Latitude.png\")"
   ]
  },
  {
   "cell_type": "markdown",
   "metadata": {},
   "source": [
    "####  Southern Hemisphere - Max Temp vs. Latitude Linear Regression"
   ]
  },
  {
   "cell_type": "code",
   "execution_count": 92,
   "metadata": {},
   "outputs": [
    {
     "name": "stdout",
     "output_type": "stream",
     "text": [
      "The r-squared is: -0.4318603743163285\n"
     ]
    },
    {
     "data": {
      "image/png": "[encoded data removed]",
      "text/plain": [
       "<Figure size 432x288 with 1 Axes>"
      ]
     },
     "metadata": {
      "needs_background": "light"
     },
     "output_type": "display_data"
    },
    {
     "data": {
      "text/plain": [
       "<Figure size 432x288 with 0 Axes>"
      ]
     },
     "metadata": {},
     "output_type": "display_data"
    }
   ],
   "source": [
    "x_values = weather_dataframe['Lat']\n",
    "y_values = weather_dataframe['Max Temp']\n",
    "(slope, intercept, rvalue, pvalue, stderr) = linregress(x_values, y_values)\n",
    "regress_values = x_values * slope + intercept\n",
    "line_eq = \"y = \" + str(round(slope,2)) + \"x + \" + str(round(intercept,2))\n",
    "plt.scatter(x_values,y_values)\n",
    "plt.plot(x_values,regress_values,\"r-\")\n",
    "plt.annotate(line_eq,(-54,60),fontsize=15,color=\"red\")\n",
    "plt.title('Southern Hemisphere - Max Temp vs. Latitude')\n",
    "plt.xlabel('Latitude')\n",
    "plt.ylabel('Max Temp')\n",
    "print(f\"The r-squared is: {rvalue}\")\n",
    "plt.xlim(-60,0)\n",
    "plt.show()\n",
    "plt.savefig(\"SouthernHemisphere-MaxTempvs.Latitude.png\")"
   ]
  },
  {
   "cell_type": "markdown",
   "metadata": {},
   "source": [
    "####  Northern Hemisphere - Humidity (%) vs. Latitude Linear Regression"
   ]
  },
  {
   "cell_type": "code",
   "execution_count": 93,
   "metadata": {},
   "outputs": [
    {
     "name": "stdout",
     "output_type": "stream",
     "text": [
      "The r-squared is: 0.08876741785200566\n"
     ]
    },
    {
     "data": {
      "image/png": "[encoded data removed]",
      "text/plain": [
       "<Figure size 432x288 with 1 Axes>"
      ]
     },
     "metadata": {
      "needs_background": "light"
     },
     "output_type": "display_data"
    },
    {
     "data": {
      "text/plain": [
       "<Figure size 432x288 with 0 Axes>"
      ]
     },
     "metadata": {},
     "output_type": "display_data"
    }
   ],
   "source": [
    "x_values = weather_dataframe['Lat']\n",
    "y_values = weather_dataframe['Humidity']\n",
    "(slope, intercept, rvalue, pvalue, stderr) = linregress(x_values, y_values)\n",
    "regress_values = x_values * slope + intercept\n",
    "line_eq = \"y = \" + str(round(slope,2)) + \"x + \" + str(round(intercept,2))\n",
    "plt.scatter(x_values,y_values)\n",
    "plt.plot(x_values,regress_values,\"r-\")\n",
    "plt.annotate(line_eq,(40,20),fontsize=15,color=\"red\")\n",
    "plt.title('Northern Hemisphere - Humidity (%) vs. Latitude')\n",
    "plt.xlabel('Latitude')\n",
    "plt.ylabel('Humidity (%)')\n",
    "print(f\"The r-squared is: {rvalue}\")\n",
    "plt.xlim(0,80)\n",
    "plt.show()\n",
    "plt.savefig(\"NorthernHemisphere-Humidity(%)vs.Latitudee.png\")"
   ]
  },
  {
   "cell_type": "markdown",
   "metadata": {},
   "source": [
    "####  Southern Hemisphere - Humidity (%) vs. Latitude Linear Regression"
   ]
  },
  {
   "cell_type": "code",
   "execution_count": 94,
   "metadata": {},
   "outputs": [
    {
     "name": "stdout",
     "output_type": "stream",
     "text": [
      "The r-squared is: 0.08876741785200566\n"
     ]
    },
    {
     "data": {
      "image/png": "[encoded data removed]",
      "text/plain": [
       "<Figure size 432x288 with 1 Axes>"
      ]
     },
     "metadata": {
      "needs_background": "light"
     },
     "output_type": "display_data"
    },
    {
     "data": {
      "text/plain": [
       "<Figure size 432x288 with 0 Axes>"
      ]
     },
     "metadata": {},
     "output_type": "display_data"
    }
   ],
   "source": [
    "x_values = weather_dataframe['Lat']\n",
    "y_values = weather_dataframe['Humidity']\n",
    "(slope, intercept, rvalue, pvalue, stderr) = linregress(x_values, y_values)\n",
    "regress_values = x_values * slope + intercept\n",
    "line_eq = \"y = \" + str(round(slope,2)) + \"x + \" + str(round(intercept,2))\n",
    "plt.scatter(x_values,y_values)\n",
    "plt.plot(x_values,regress_values,\"r-\")\n",
    "plt.annotate(line_eq,(-54,60),fontsize=15,color=\"red\")\n",
    "plt.title('Southern Hemisphere - Humidity (%) vs. Latitude')\n",
    "plt.xlabel('Latitude')\n",
    "plt.ylabel('Humidity (%)')\n",
    "print(f\"The r-squared is: {rvalue}\")\n",
    "plt.xlim(-60,0)\n",
    "plt.show()\n",
    "plt.savefig(\"SouthernHemisphere-Humidity(%)vs.Latitudee.png\")"
   ]
  },
  {
   "cell_type": "markdown",
   "metadata": {},
   "source": [
    "####  Northern Hemisphere - Cloudiness (%) vs. Latitude Linear Regression"
   ]
  },
  {
   "cell_type": "code",
   "execution_count": 95,
   "metadata": {},
   "outputs": [
    {
     "name": "stdout",
     "output_type": "stream",
     "text": [
      "The r-squared is: 0.21044809691668626\n"
     ]
    },
    {
     "data": {
      "image/png": "[encoded data removed]",
      "text/plain": [
       "<Figure size 432x288 with 1 Axes>"
      ]
     },
     "metadata": {
      "needs_background": "light"
     },
     "output_type": "display_data"
    },
    {
     "data": {
      "text/plain": [
       "<Figure size 432x288 with 0 Axes>"
      ]
     },
     "metadata": {},
     "output_type": "display_data"
    }
   ],
   "source": [
    "x_values = weather_dataframe['Lat']\n",
    "y_values = weather_dataframe['Cloudiness']\n",
    "(slope, intercept, rvalue, pvalue, stderr) = linregress(x_values, y_values)\n",
    "regress_values = x_values * slope + intercept\n",
    "line_eq = \"y = \" + str(round(slope,2)) + \"x + \" + str(round(intercept,2))\n",
    "plt.scatter(x_values,y_values)\n",
    "plt.plot(x_values,regress_values,\"r-\")\n",
    "plt.annotate(line_eq,(45,40),fontsize=15,color=\"red\")\n",
    "plt.title('Northern Hemisphere - Cloudiness (%) vs. Latitude')\n",
    "plt.xlabel('Latitude')\n",
    "plt.ylabel('Cloudiness (%)')\n",
    "print(f\"The r-squared is: {rvalue}\")\n",
    "plt.xlim(0,80)\n",
    "plt.show()\n",
    "plt.savefig(\"NorthernHemisphere-Cloudiness(%)vs.Latitude.png\")"
   ]
  },
  {
   "cell_type": "markdown",
   "metadata": {},
   "source": [
    "####  Southern Hemisphere - Cloudiness (%) vs. Latitude Linear Regression"
   ]
  },
  {
   "cell_type": "code",
   "execution_count": 96,
   "metadata": {},
   "outputs": [
    {
     "name": "stdout",
     "output_type": "stream",
     "text": [
      "The r-squared is: 0.21044809691668626\n"
     ]
    },
    {
     "data": {
      "image/png": "[encoded data removed]",
      "text/plain": [
       "<Figure size 432x288 with 1 Axes>"
      ]
     },
     "metadata": {
      "needs_background": "light"
     },
     "output_type": "display_data"
    },
    {
     "data": {
      "text/plain": [
       "<Figure size 432x288 with 0 Axes>"
      ]
     },
     "metadata": {},
     "output_type": "display_data"
    }
   ],
   "source": [
    "x_values = weather_dataframe['Lat']\n",
    "y_values = weather_dataframe['Cloudiness']\n",
    "(slope, intercept, rvalue, pvalue, stderr) = linregress(x_values, y_values)\n",
    "regress_values = x_values * slope + intercept\n",
    "line_eq = \"y = \" + str(round(slope,2)) + \"x + \" + str(round(intercept,2))\n",
    "plt.scatter(x_values,y_values)\n",
    "plt.plot(x_values,regress_values,\"r-\")\n",
    "plt.annotate(line_eq,(-54,65),fontsize=15,color=\"red\")\n",
    "plt.title('Southern Hemisphere - Cloudiness (%) vs. Latitude')\n",
    "plt.xlabel('Latitude')\n",
    "plt.ylabel('Cloudiness (%)')\n",
    "print(f\"The r-squared is: {rvalue}\")\n",
    "plt.xlim(-60,0)\n",
    "plt.show()\n",
    "plt.savefig(\"SouthernHemisphere-Cloudiness(%)vs.Latitude.png\")"
   ]
  },
  {
   "cell_type": "markdown",
   "metadata": {},
   "source": [
    "####  Northern Hemisphere - Wind Speed (mph) vs. Latitude Linear Regression"
   ]
  },
  {
   "cell_type": "code",
   "execution_count": 97,
   "metadata": {},
   "outputs": [
    {
     "name": "stdout",
     "output_type": "stream",
     "text": [
      "The r-squared is: 0.0843390164610811\n"
     ]
    },
    {
     "data": {
      "image/png": "[encoded data removed]",
      "text/plain": [
       "<Figure size 432x288 with 1 Axes>"
      ]
     },
     "metadata": {
      "needs_background": "light"
     },
     "output_type": "display_data"
    },
    {
     "data": {
      "text/plain": [
       "<Figure size 432x288 with 0 Axes>"
      ]
     },
     "metadata": {},
     "output_type": "display_data"
    }
   ],
   "source": [
    "x_values = weather_dataframe['Lat']\n",
    "y_values = weather_dataframe['Wind Speed']\n",
    "(slope, intercept, rvalue, pvalue, stderr) = linregress(x_values, y_values)\n",
    "regress_values = x_values * slope + intercept\n",
    "line_eq = \"y = \" + str(round(slope,2)) + \"x + \" + str(round(intercept,2))\n",
    "plt.scatter(x_values,y_values)\n",
    "plt.plot(x_values,regress_values,\"r-\")\n",
    "plt.annotate(line_eq,(20,20),fontsize=15,color=\"red\")\n",
    "plt.title('Northern Hemisphere - Wind Speed (mph) vs. Latitude')\n",
    "plt.xlabel('Latitude')\n",
    "plt.ylabel('Wind Speed (mph)')\n",
    "print(f\"The r-squared is: {rvalue}\")\n",
    "plt.xlim(0,80)\n",
    "plt.show()\n",
    "plt.savefig(\"NorthernHemisphere-WindSpeed(mph)vs.Latitude.png\")"
   ]
  },
  {
   "cell_type": "markdown",
   "metadata": {},
   "source": [
    "####  Southern Hemisphere - Wind Speed (mph) vs. Latitude Linear Regression"
   ]
  },
  {
   "cell_type": "code",
   "execution_count": 98,
   "metadata": {},
   "outputs": [
    {
     "name": "stdout",
     "output_type": "stream",
     "text": [
      "The r-squared is: 0.0843390164610811\n"
     ]
    },
    {
     "data": {
      "image/png": "[encoded data removed]",
      "text/plain": [
       "<Figure size 432x288 with 1 Axes>"
      ]
     },
     "metadata": {
      "needs_background": "light"
     },
     "output_type": "display_data"
    },
    {
     "data": {
      "text/plain": [
       "<Figure size 432x288 with 0 Axes>"
      ]
     },
     "metadata": {},
     "output_type": "display_data"
    }
   ],
   "source": [
    "x_values = weather_dataframe['Lat']\n",
    "y_values = weather_dataframe['Wind Speed']\n",
    "(slope, intercept, rvalue, pvalue, stderr) = linregress(x_values, y_values)\n",
    "regress_values = x_values * slope + intercept\n",
    "line_eq = \"y = \" + str(round(slope,2)) + \"x + \" + str(round(intercept,2))\n",
    "plt.scatter(x_values,y_values)\n",
    "plt.plot(x_values,regress_values,\"r-\")\n",
    "plt.annotate(line_eq,(-40,20),fontsize=15,color=\"red\")\n",
    "plt.title('Southern Hemisphere - Wind Speed (mph) vs. Latitude')\n",
    "plt.xlabel('Latitude')\n",
    "plt.ylabel('Wind Speed (mph)')\n",
    "print(f\"The r-squared is: {rvalue}\")\n",
    "plt.xlim(-60,0)\n",
    "plt.show()\n",
    "plt.savefig(\"SouthernHemisphere-WindSpeed(mph)vs.Latitude.png\")"
   ]
  },
  {
   "cell_type": "code",
   "execution_count": null,
   "metadata": {},
   "outputs": [],
   "source": []
  }
 ],
 "metadata": {
  "anaconda-cloud": {},
  "kernel_info": {
   "name": "python3"
  },
  "kernelspec": {
   "display_name": "PythonData",
   "language": "python",
   "name": "pythondata"
  },
  "language_info": {
   "codemirror_mode": {
    "name": "ipython",
    "version": 3
   },
   "file_extension": ".py",
   "mimetype": "text/x-python",
   "name": "python",
   "nbconvert_exporter": "python",
   "pygments_lexer": "ipython3",
   "version": "3.6.9"
  },
  "latex_envs": {
   "LaTeX_envs_menu_present": true,
   "autoclose": false,
   "autocomplete": true,
   "bibliofile": "biblio.bib",
   "cite_by": "apalike",
   "current_citInitial": 1,
   "eqLabelWithNumbers": true,
   "eqNumInitial": 1,
   "hotkeys": {
    "equation": "Ctrl-E",
    "itemize": "Ctrl-I"
   },
   "labels_anchors": false,
   "latex_user_defs": false,
   "report_style_numbering": false,
   "user_envs_cfg": false
  },
  "nteract": {
   "version": "0.12.3"
  }
 },
 "nbformat": 4,
 "nbformat_minor": 2
}
